{
 "cells": [
  {
   "cell_type": "code",
   "execution_count": 43,
   "id": "fdfb34c9",
   "metadata": {},
   "outputs": [],
   "source": [
    "import numpy as np\n",
    "import pandas as pd\n",
    "\n",
    "from sklearn.ensemble import RandomForestRegressor\n"
   ]
  },
  {
   "cell_type": "code",
   "execution_count": 14,
   "id": "d6895b66",
   "metadata": {},
   "outputs": [],
   "source": [
    "df_cars = pd.read_csv('cars_train.csv', sep='\\\\t', encoding='utf-16', engine='python')\n",
    "df_cars_test = pd.read_csv('cars_test.csv', sep='\\\\t', encoding='utf-16', engine='python')"
   ]
  },
  {
   "cell_type": "code",
   "execution_count": 37,
   "id": "ab9193ec",
   "metadata": {},
   "outputs": [],
   "source": [
    "var = ['ano_de_fabricacao', 'ano_modelo','hodometro',\n",
    "'cambio', 'num_portas', 'tipo', 'blindado','preco'\n",
    "]\n",
    "\n",
    "df_modelo = df_cars.loc[:, var].dropna()\n",
    "X_test = df_cars_test.loc[:, var[:-1]].dropna()\n",
    "\n"
   ]
  },
  {
   "cell_type": "code",
   "execution_count": 38,
   "id": "2ac54eda",
   "metadata": {},
   "outputs": [],
   "source": [
    "X_train = df_modelo.iloc[:,:-1]\n",
    "y_train = df_modelo.iloc[:,-1].astype('int64')\n",
    "\n",
    "X_train = pd.get_dummies(X_train)\n",
    "X_test = pd.get_dummies(X_test)\n"
   ]
  },
  {
   "cell_type": "code",
   "execution_count": 44,
   "id": "ff9cd345",
   "metadata": {},
   "outputs": [],
   "source": [
    "clf = RandomForestRegressor()\n",
    "\n",
    "clf = clf.fit(X_train,y_train)"
   ]
  },
  {
   "cell_type": "code",
   "execution_count": 49,
   "id": "256b6cf6",
   "metadata": {},
   "outputs": [],
   "source": [
    "X_test = X_test.drop(columns='tipo_Conversível')"
   ]
  },
  {
   "cell_type": "code",
   "execution_count": 50,
   "id": "79410419",
   "metadata": {},
   "outputs": [],
   "source": [
    "lh_cd = clf.predict(X_test)"
   ]
  },
  {
   "cell_type": "code",
   "execution_count": 53,
   "id": "e9222924",
   "metadata": {},
   "outputs": [],
   "source": [
    "df_res = pd.DataFrame()\n",
    "df_res['id'] = df_cars_test['id']\n",
    "df_res['preco_predito'] = lh_cd\n",
    "df_res.to_csv('LH_CD_CARLOSGUILHERME.csv')"
   ]
  },
  {
   "cell_type": "code",
   "execution_count": null,
   "id": "521fc999",
   "metadata": {},
   "outputs": [],
   "source": []
  },
  {
   "cell_type": "code",
   "execution_count": null,
   "id": "01bb8322",
   "metadata": {},
   "outputs": [],
   "source": []
  }
 ],
 "metadata": {
  "kernelspec": {
   "display_name": "Python 3 (ipykernel)",
   "language": "python",
   "name": "python3"
  },
  "language_info": {
   "codemirror_mode": {
    "name": "ipython",
    "version": 3
   },
   "file_extension": ".py",
   "mimetype": "text/x-python",
   "name": "python",
   "nbconvert_exporter": "python",
   "pygments_lexer": "ipython3",
   "version": "3.9.10"
  }
 },
 "nbformat": 4,
 "nbformat_minor": 5
}
