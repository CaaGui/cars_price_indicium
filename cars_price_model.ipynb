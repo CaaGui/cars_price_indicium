{
 "cells": [
  {
   "cell_type": "code",
   "execution_count": 83,
   "id": "fdfb34c9",
   "metadata": {},
   "outputs": [],
   "source": [
    "import numpy as np\n",
    "import pandas as pd\n",
    "\n",
    "from sklearn.metrics import accuracy_score\n",
    "\n",
    "from sklearn.ensemble import RandomForestRegressor\n"
   ]
  },
  {
   "cell_type": "code",
   "execution_count": 14,
   "id": "d6895b66",
   "metadata": {},
   "outputs": [],
   "source": [
    "df_cars = pd.read_csv('cars_train.csv', sep='\\\\t', encoding='utf-16', engine='python')\n",
    "df_cars_test = pd.read_csv('cars_test.csv', sep='\\\\t', encoding='utf-16', engine='python')"
   ]
  },
  {
   "cell_type": "code",
   "execution_count": 78,
   "id": "d8522e61",
   "metadata": {},
   "outputs": [
    {
     "name": "stdout",
     "output_type": "stream",
     "text": [
      "(29584, 30)\n",
      "(9862, 29)\n",
      "(39446, 30)\n"
     ]
    }
   ],
   "source": [
    "df_cars['test'] = 0\n",
    "df_cars_test['test'] = 1\n",
    "df_modelo = pd.concat([df_cars,df_cars_test])\n",
    "print(df_cars.shape)\n",
    "print(df_cars_test.shape)\n",
    "print(df_modelo.shape)"
   ]
  },
  {
   "cell_type": "code",
   "execution_count": 79,
   "id": "8ae6f5fc",
   "metadata": {},
   "outputs": [
    {
     "name": "stdout",
     "output_type": "stream",
     "text": [
      "(29407, 42730)\n",
      "(29407,)\n",
      "(9862, 42730)\n"
     ]
    }
   ],
   "source": [
    "var_remove = ['dono_aceita_troca', 'dono_aceita_troca', 'veiculo_único_dono',\n",
    " 'revisoes_concessionaria', 'ipva_pago', 'veiculo_licenciado', 'garantia_de_fábrica',\n",
    " 'revisoes_dentro_agenda', 'veiculo_alienado'\n",
    " ]\n",
    "\n",
    "df_modelo = df_modelo.drop(columns= var_remove)\n",
    "df_modelo = pd.get_dummies(df_modelo)\n",
    "\n",
    "\n",
    "X_train = df_modelo.loc[df_modelo['test'] == 0,:].dropna()\n",
    "\n",
    "y_train = X_train.loc[:,'preco'].astype('int64')\n",
    "X_train = X_train.drop(columns=['preco','test'])\n",
    "\n",
    "\n",
    "X_test = df_modelo.loc[df_modelo['test'] == 1,:].drop(columns=['preco'])\n",
    "X_test = X_test.drop(columns=['test'])\n",
    "X_test = X_test.fillna(0)\n",
    "\n"
   ]
  },
  {
   "cell_type": "code",
   "execution_count": 74,
   "id": "0d5babdc",
   "metadata": {},
   "outputs": [
    {
     "data": {
      "text/plain": [
       "0"
      ]
     },
     "execution_count": 74,
     "metadata": {},
     "output_type": "execute_result"
    }
   ],
   "source": []
  },
  {
   "cell_type": "code",
   "execution_count": 80,
   "id": "ff9cd345",
   "metadata": {},
   "outputs": [],
   "source": [
    "clf = RandomForestRegressor()\n",
    "\n",
    "clf = clf.fit(X_train,y_train)"
   ]
  },
  {
   "cell_type": "code",
   "execution_count": 81,
   "id": "79410419",
   "metadata": {},
   "outputs": [],
   "source": [
    "lh_cd = clf.predict(X_test)"
   ]
  },
  {
   "cell_type": "code",
   "execution_count": 92,
   "id": "e9222924",
   "metadata": {},
   "outputs": [],
   "source": [
    "df_res = pd.DataFrame()\n",
    "df_res['id'] = df_cars_test['id']\n",
    "df_res['preco_predito'] = lh_cd\n",
    "df_res.to_csv('LH_CD_CARLOSGUILHERME.csv')"
   ]
  },
  {
   "cell_type": "code",
   "execution_count": null,
   "id": "521fc999",
   "metadata": {},
   "outputs": [],
   "source": []
  },
  {
   "cell_type": "code",
   "execution_count": null,
   "id": "01bb8322",
   "metadata": {},
   "outputs": [],
   "source": []
  },
  {
   "cell_type": "code",
   "execution_count": null,
   "id": "f152bc09",
   "metadata": {},
   "outputs": [],
   "source": []
  },
  {
   "cell_type": "code",
   "execution_count": null,
   "id": "d8855822",
   "metadata": {},
   "outputs": [],
   "source": []
  }
 ],
 "metadata": {
  "kernelspec": {
   "display_name": "Python 3 (ipykernel)",
   "language": "python",
   "name": "python3"
  },
  "language_info": {
   "codemirror_mode": {
    "name": "ipython",
    "version": 3
   },
   "file_extension": ".py",
   "mimetype": "text/x-python",
   "name": "python",
   "nbconvert_exporter": "python",
   "pygments_lexer": "ipython3",
   "version": "3.9.10"
  }
 },
 "nbformat": 4,
 "nbformat_minor": 5
}
